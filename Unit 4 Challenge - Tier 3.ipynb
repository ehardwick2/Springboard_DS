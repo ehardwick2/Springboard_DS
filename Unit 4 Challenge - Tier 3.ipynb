{
 "cells": [
  {
   "cell_type": "markdown",
   "metadata": {
    "colab_type": "text",
    "id": "Tia3MP1SJpgj"
   },
   "source": [
    "# Springboard Data Science Career Track Unit 4 Challenge - Tier 3 Complete\n",
    "\n",
    "## Objectives\n",
    "Hey! Great job getting through those challenging DataCamp courses. You're learning a lot in a short span of time. \n",
    "\n",
    "In this notebook, you're going to apply the skills you've been learning, bridging the gap between the controlled environment of DataCamp and the *slightly* messier work that data scientists do with actual datasets!\n",
    "\n",
    "Here’s the mystery we’re going to solve: ***which boroughs of London have seen the greatest increase in housing prices, on average, over the last two decades?***\n",
    "\n",
    "\n",
    "A borough is just a fancy word for district. You may be familiar with the five boroughs of New York… well, there are 32 boroughs within Greater London [(here's some info for the curious)](https://en.wikipedia.org/wiki/London_boroughs). Some of them are more desirable areas to live in, and the data will reflect that with a greater rise in housing prices.\n",
    "\n",
    "***This is the Tier 3 notebook, which means it's not filled in at all: we'll just give you the skeleton of a project, the brief and the data. It's up to you to play around with it and see what you can find out! Good luck! If you struggle, feel free to look at easier tiers for help; but try to dip in and out of them, as the more independent work you do, the better it is for your learning!***\n",
    "\n",
    "This challenge will make use of only what you learned in the following DataCamp courses: \n",
    "- Prework courses (Introduction to Python for Data Science, Intermediate Python for Data Science)\n",
    "- Data Types for Data Science\n",
    "- Python Data Science Toolbox (Part One) \n",
    "- pandas Foundations\n",
    "- Manipulating DataFrames with pandas\n",
    "- Merging DataFrames with pandas\n",
    "\n",
    "Of the tools, techniques and concepts in the above DataCamp courses, this challenge should require the application of the following: \n",
    "- **pandas**\n",
    "    - **data ingestion and inspection** (pandas Foundations, Module One) \n",
    "    - **exploratory data analysis** (pandas Foundations, Module Two)\n",
    "    - **tidying and cleaning** (Manipulating DataFrames with pandas, Module Three) \n",
    "    - **transforming DataFrames** (Manipulating DataFrames with pandas, Module One)\n",
    "    - **subsetting DataFrames with lists** (Manipulating DataFrames with pandas, Module One) \n",
    "    - **filtering DataFrames** (Manipulating DataFrames with pandas, Module One) \n",
    "    - **grouping data** (Manipulating DataFrames with pandas, Module Four) \n",
    "    - **melting data** (Manipulating DataFrames with pandas, Module Three) \n",
    "    - **advanced indexing** (Manipulating DataFrames with pandas, Module Four) \n",
    "- **matplotlib** (Intermediate Python for Data Science, Module One)\n",
    "- **fundamental data types** (Data Types for Data Science, Module One) \n",
    "- **dictionaries** (Intermediate Python for Data Science, Module Two)\n",
    "- **handling dates and times** (Data Types for Data Science, Module Four)\n",
    "- **function definition** (Python Data Science Toolbox - Part One, Module One)\n",
    "- **default arguments, variable length, and scope** (Python Data Science Toolbox - Part One, Module Two) \n",
    "- **lambda functions and error handling** (Python Data Science Toolbox - Part One, Module Four) "
   ]
  },
  {
   "cell_type": "markdown",
   "metadata": {
    "colab_type": "text",
    "id": "Ipgd2nV8Jpgl"
   },
   "source": [
    "## The Data Science Pipeline\n",
    "\n",
    "This is Tier Three, so we'll get you started. But after that, it's all in your hands! When you feel done with your investigations, look back over what you've accomplished, and prepare a quick presentation of your findings for the next mentor meeting. \n",
    "\n",
    "Data Science is magical. In this case study, you'll get to apply some complex machine learning algorithms. But as  [David Spiegelhalter](https://www.youtube.com/watch?v=oUs1uvsz0Ok) reminds us, there is no substitute for simply **taking a really, really good look at the data.** Sometimes, this is all we need to answer our question.\n",
    "\n",
    "Data Science projects generally adhere to the four stages of Data Science Pipeline:\n",
    "1. Sourcing and loading \n",
    "2. Cleaning, transforming, and visualizing \n",
    "3. Modeling \n",
    "4. Evaluating and concluding \n"
   ]
  },
  {
   "cell_type": "markdown",
   "metadata": {
    "colab_type": "text",
    "id": "zswDqbefJpgm"
   },
   "source": [
    "### 1. Sourcing and Loading \n",
    "\n",
    "Any Data Science project kicks off by importing  ***pandas***. The documentation of this wonderful library can be found [here](https://pandas.pydata.org/). As you've seen, pandas is conveniently connected to the [Numpy](http://www.numpy.org/) and [Matplotlib](https://matplotlib.org/) libraries. \n",
    "\n",
    "***Hint:*** This part of the data science pipeline will test those skills you acquired in the pandas Foundations course, Module One. "
   ]
  },
  {
   "cell_type": "markdown",
   "metadata": {
    "colab_type": "text",
    "id": "aEau5nEvJpgm"
   },
   "source": [
    "#### 1.1. Importing Libraries"
   ]
  },
  {
   "cell_type": "code",
   "execution_count": 57,
   "metadata": {
    "colab": {},
    "colab_type": "code",
    "id": "7Bt_Q_oPJpgn"
   },
   "outputs": [],
   "source": [
    "# Let's import the pandas, numpy libraries as pd, and np respectively. \n",
    "import pandas as pd\n",
    "import numpy as np\n",
    "\n",
    "# Load the pyplot collection of functions from matplotlib, as plt \n",
    "import matplotlib.pyplot as plt\n",
    "import matplotlib.dates as mpl_dates\n",
    "%matplotlib inline"
   ]
  },
  {
   "cell_type": "markdown",
   "metadata": {
    "colab_type": "text",
    "id": "koUrawxsJpgq"
   },
   "source": [
    "#### 1.2.  Loading the data\n",
    "Your data comes from the [London Datastore](https://data.london.gov.uk/): a free, open-source data-sharing portal for London-oriented datasets. "
   ]
  },
  {
   "cell_type": "code",
   "execution_count": 58,
   "metadata": {
    "colab": {},
    "colab_type": "code",
    "id": "AiLiD4v3Jpgr"
   },
   "outputs": [],
   "source": [
    "# First, make a variable called url_LondonHousePrices, and assign it the following link, enclosed in quotation-marks as a string:\n",
    "# https://data.london.gov.uk/download/uk-house-price-index/70ac0766-8902-4eb5-aab5-01951aaed773/UK%20House%20price%20index.xls\n",
    "\n",
    "url_LondonHousePrices = \"https://data.london.gov.uk/download/uk-house-price-index/70ac0766-8902-4eb5-aab5-01951aaed773/UK%20House%20price%20index.xls\"\n",
    "\n",
    "# The dataset we're interested in contains the Average prices of the houses, and is actually on a particular sheet of the Excel file. \n",
    "# As a result, we need to specify the sheet name in the read_excel() method.\n",
    "# Put this data into a variable called properties.  \n",
    "properties = pd.read_excel(url_LondonHousePrices, sheet_name='Average price', index_col= None)"
   ]
  },
  {
   "cell_type": "markdown",
   "metadata": {
    "colab_type": "text",
    "id": "POukEJXgJpgu"
   },
   "source": [
    "### 2. Cleaning, transforming, and visualizing\n",
    "This second stage is arguably the most important part of any Data Science project. The first thing to do is take a proper look at the data. Cleaning forms the majority of this stage, and can be done both before or after Transformation.\n",
    "\n",
    "The end goal of data cleaning is to have tidy data. When data is tidy: \n",
    "\n",
    "1. Each variable has a column.\n",
    "2. Each observation forms a row.\n",
    "\n",
    "Keep the end goal in mind as you move through this process, every step will take you closer. \n",
    "\n",
    "\n",
    "\n",
    "***Hint:*** This part of the data science pipeline should test those skills you acquired in: \n",
    "- Intermediate Python for data science, all modules.\n",
    "- pandas Foundations, all modules. \n",
    "- Manipulating DataFrames with pandas, all modules.\n",
    "- Data Types for Data Science, Module Four.\n",
    "- Python Data Science Toolbox - Part One, all modules"
   ]
  },
  {
   "cell_type": "markdown",
   "metadata": {
    "colab_type": "text",
    "id": "Te0Q548tnzZa"
   },
   "source": [
    "**2.1. Exploring your data** \n",
    "\n",
    "Think about your pandas functions for checking out a dataframe. "
   ]
  },
  {
   "cell_type": "code",
   "execution_count": 59,
   "metadata": {
    "colab": {},
    "colab_type": "code",
    "id": "Rxirxw_qoAJa"
   },
   "outputs": [
    {
     "data": {
      "text/plain": [
       "(329, 49)"
      ]
     },
     "execution_count": 59,
     "metadata": {},
     "output_type": "execute_result"
    }
   ],
   "source": [
    "properties.shape"
   ]
  },
  {
   "cell_type": "code",
   "execution_count": 60,
   "metadata": {},
   "outputs": [
    {
     "data": {
      "text/html": [
       "<div>\n",
       "<style scoped>\n",
       "    .dataframe tbody tr th:only-of-type {\n",
       "        vertical-align: middle;\n",
       "    }\n",
       "\n",
       "    .dataframe tbody tr th {\n",
       "        vertical-align: top;\n",
       "    }\n",
       "\n",
       "    .dataframe thead th {\n",
       "        text-align: right;\n",
       "    }\n",
       "</style>\n",
       "<table border=\"1\" class=\"dataframe\">\n",
       "  <thead>\n",
       "    <tr style=\"text-align: right;\">\n",
       "      <th></th>\n",
       "      <th>Unnamed: 0</th>\n",
       "      <th>City of London</th>\n",
       "      <th>Barking &amp; Dagenham</th>\n",
       "      <th>Barnet</th>\n",
       "      <th>Bexley</th>\n",
       "      <th>Brent</th>\n",
       "      <th>Bromley</th>\n",
       "      <th>Camden</th>\n",
       "      <th>Croydon</th>\n",
       "      <th>Ealing</th>\n",
       "      <th>...</th>\n",
       "      <th>NORTH WEST</th>\n",
       "      <th>YORKS &amp; THE HUMBER</th>\n",
       "      <th>EAST MIDLANDS</th>\n",
       "      <th>WEST MIDLANDS</th>\n",
       "      <th>EAST OF ENGLAND</th>\n",
       "      <th>LONDON</th>\n",
       "      <th>SOUTH EAST</th>\n",
       "      <th>SOUTH WEST</th>\n",
       "      <th>Unnamed: 47</th>\n",
       "      <th>England</th>\n",
       "    </tr>\n",
       "  </thead>\n",
       "  <tbody>\n",
       "    <tr>\n",
       "      <th>0</th>\n",
       "      <td>NaT</td>\n",
       "      <td>E09000001</td>\n",
       "      <td>E09000002</td>\n",
       "      <td>E09000003</td>\n",
       "      <td>E09000004</td>\n",
       "      <td>E09000005</td>\n",
       "      <td>E09000006</td>\n",
       "      <td>E09000007</td>\n",
       "      <td>E09000008</td>\n",
       "      <td>E09000009</td>\n",
       "      <td>...</td>\n",
       "      <td>E12000002</td>\n",
       "      <td>E12000003</td>\n",
       "      <td>E12000004</td>\n",
       "      <td>E12000005</td>\n",
       "      <td>E12000006</td>\n",
       "      <td>E12000007</td>\n",
       "      <td>E12000008</td>\n",
       "      <td>E12000009</td>\n",
       "      <td>NaN</td>\n",
       "      <td>E92000001</td>\n",
       "    </tr>\n",
       "    <tr>\n",
       "      <th>1</th>\n",
       "      <td>1995-01-01</td>\n",
       "      <td>91448.98487</td>\n",
       "      <td>50460.2266</td>\n",
       "      <td>93284.51832</td>\n",
       "      <td>64958.09036</td>\n",
       "      <td>71306.56698</td>\n",
       "      <td>81671.47692</td>\n",
       "      <td>120932.8881</td>\n",
       "      <td>69158.16225</td>\n",
       "      <td>79885.89069</td>\n",
       "      <td>...</td>\n",
       "      <td>43958.48001</td>\n",
       "      <td>44803.42878</td>\n",
       "      <td>45544.52227</td>\n",
       "      <td>48527.52339</td>\n",
       "      <td>56701.5961</td>\n",
       "      <td>74435.76052</td>\n",
       "      <td>64018.87894</td>\n",
       "      <td>54705.1579</td>\n",
       "      <td>NaN</td>\n",
       "      <td>53202.77128</td>\n",
       "    </tr>\n",
       "    <tr>\n",
       "      <th>2</th>\n",
       "      <td>1995-02-01</td>\n",
       "      <td>82202.77314</td>\n",
       "      <td>51085.77983</td>\n",
       "      <td>93190.16963</td>\n",
       "      <td>64787.92069</td>\n",
       "      <td>72022.26197</td>\n",
       "      <td>81657.55944</td>\n",
       "      <td>119508.8622</td>\n",
       "      <td>68951.09542</td>\n",
       "      <td>80897.06551</td>\n",
       "      <td>...</td>\n",
       "      <td>43925.42289</td>\n",
       "      <td>44528.80721</td>\n",
       "      <td>46051.57066</td>\n",
       "      <td>49341.29029</td>\n",
       "      <td>56593.59475</td>\n",
       "      <td>72777.93709</td>\n",
       "      <td>63715.02399</td>\n",
       "      <td>54356.14843</td>\n",
       "      <td>NaN</td>\n",
       "      <td>53096.1549</td>\n",
       "    </tr>\n",
       "    <tr>\n",
       "      <th>3</th>\n",
       "      <td>1995-03-01</td>\n",
       "      <td>79120.70256</td>\n",
       "      <td>51268.96956</td>\n",
       "      <td>92247.52435</td>\n",
       "      <td>64367.49344</td>\n",
       "      <td>72015.76274</td>\n",
       "      <td>81449.31143</td>\n",
       "      <td>120282.2131</td>\n",
       "      <td>68712.44341</td>\n",
       "      <td>81379.86288</td>\n",
       "      <td>...</td>\n",
       "      <td>44434.8681</td>\n",
       "      <td>45200.46775</td>\n",
       "      <td>45383.82395</td>\n",
       "      <td>49442.17973</td>\n",
       "      <td>56171.18278</td>\n",
       "      <td>73896.84204</td>\n",
       "      <td>64113.60858</td>\n",
       "      <td>53583.07667</td>\n",
       "      <td>NaN</td>\n",
       "      <td>53201.2843</td>\n",
       "    </tr>\n",
       "    <tr>\n",
       "      <th>4</th>\n",
       "      <td>1995-04-01</td>\n",
       "      <td>77101.20804</td>\n",
       "      <td>53133.50526</td>\n",
       "      <td>90762.87492</td>\n",
       "      <td>64277.66881</td>\n",
       "      <td>72965.63094</td>\n",
       "      <td>81124.41227</td>\n",
       "      <td>120097.899</td>\n",
       "      <td>68610.04641</td>\n",
       "      <td>82188.90498</td>\n",
       "      <td>...</td>\n",
       "      <td>44267.7796</td>\n",
       "      <td>45614.34341</td>\n",
       "      <td>46124.23045</td>\n",
       "      <td>49455.93299</td>\n",
       "      <td>56567.89582</td>\n",
       "      <td>74455.28754</td>\n",
       "      <td>64623.22395</td>\n",
       "      <td>54786.01938</td>\n",
       "      <td>NaN</td>\n",
       "      <td>53590.8548</td>\n",
       "    </tr>\n",
       "  </tbody>\n",
       "</table>\n",
       "<p>5 rows × 49 columns</p>\n",
       "</div>"
      ],
      "text/plain": [
       "  Unnamed: 0 City of London Barking & Dagenham       Barnet       Bexley  \\\n",
       "0        NaT      E09000001          E09000002    E09000003    E09000004   \n",
       "1 1995-01-01    91448.98487         50460.2266  93284.51832  64958.09036   \n",
       "2 1995-02-01    82202.77314        51085.77983  93190.16963  64787.92069   \n",
       "3 1995-03-01    79120.70256        51268.96956  92247.52435  64367.49344   \n",
       "4 1995-04-01    77101.20804        53133.50526  90762.87492  64277.66881   \n",
       "\n",
       "         Brent      Bromley       Camden      Croydon       Ealing  ...  \\\n",
       "0    E09000005    E09000006    E09000007    E09000008    E09000009  ...   \n",
       "1  71306.56698  81671.47692  120932.8881  69158.16225  79885.89069  ...   \n",
       "2  72022.26197  81657.55944  119508.8622  68951.09542  80897.06551  ...   \n",
       "3  72015.76274  81449.31143  120282.2131  68712.44341  81379.86288  ...   \n",
       "4  72965.63094  81124.41227   120097.899  68610.04641  82188.90498  ...   \n",
       "\n",
       "    NORTH WEST YORKS & THE HUMBER EAST MIDLANDS WEST MIDLANDS EAST OF ENGLAND  \\\n",
       "0    E12000002          E12000003     E12000004     E12000005       E12000006   \n",
       "1  43958.48001        44803.42878   45544.52227   48527.52339      56701.5961   \n",
       "2  43925.42289        44528.80721   46051.57066   49341.29029     56593.59475   \n",
       "3   44434.8681        45200.46775   45383.82395   49442.17973     56171.18278   \n",
       "4   44267.7796        45614.34341   46124.23045   49455.93299     56567.89582   \n",
       "\n",
       "        LONDON   SOUTH EAST   SOUTH WEST Unnamed: 47      England  \n",
       "0    E12000007    E12000008    E12000009         NaN    E92000001  \n",
       "1  74435.76052  64018.87894   54705.1579         NaN  53202.77128  \n",
       "2  72777.93709  63715.02399  54356.14843         NaN   53096.1549  \n",
       "3  73896.84204  64113.60858  53583.07667         NaN   53201.2843  \n",
       "4  74455.28754  64623.22395  54786.01938         NaN   53590.8548  \n",
       "\n",
       "[5 rows x 49 columns]"
      ]
     },
     "execution_count": 60,
     "metadata": {},
     "output_type": "execute_result"
    }
   ],
   "source": [
    "properties.head(5)"
   ]
  },
  {
   "cell_type": "code",
   "execution_count": 61,
   "metadata": {},
   "outputs": [
    {
     "data": {
      "text/plain": [
       "RangeIndex(start=0, stop=329, step=1)"
      ]
     },
     "execution_count": 61,
     "metadata": {},
     "output_type": "execute_result"
    }
   ],
   "source": [
    "properties.index"
   ]
  },
  {
   "cell_type": "markdown",
   "metadata": {
    "colab_type": "text",
    "id": "tE9Sqt9-oAta"
   },
   "source": [
    "**2.2. Cleaning the data**\n",
    "\n",
    "You might find you need to transpose your dataframe, check out what its row indexes are, and reset the index. You  also might find you need to assign the values of the first row to your column headings  . (Hint: recall the .columns feature of DataFrames, as well as the iloc[] method).\n",
    "\n",
    "Don't be afraid to use StackOverflow for help  with this."
   ]
  },
  {
   "cell_type": "code",
   "execution_count": 62,
   "metadata": {
    "colab": {},
    "colab_type": "code",
    "id": "cdAu1A3YoH_r"
   },
   "outputs": [
    {
     "data": {
      "text/html": [
       "<div>\n",
       "<style scoped>\n",
       "    .dataframe tbody tr th:only-of-type {\n",
       "        vertical-align: middle;\n",
       "    }\n",
       "\n",
       "    .dataframe tbody tr th {\n",
       "        vertical-align: top;\n",
       "    }\n",
       "\n",
       "    .dataframe thead th {\n",
       "        text-align: right;\n",
       "    }\n",
       "</style>\n",
       "<table border=\"1\" class=\"dataframe\">\n",
       "  <thead>\n",
       "    <tr style=\"text-align: right;\">\n",
       "      <th></th>\n",
       "      <th>index</th>\n",
       "      <th>0</th>\n",
       "      <th>1</th>\n",
       "      <th>2</th>\n",
       "      <th>3</th>\n",
       "      <th>4</th>\n",
       "      <th>5</th>\n",
       "      <th>6</th>\n",
       "      <th>7</th>\n",
       "      <th>8</th>\n",
       "      <th>...</th>\n",
       "      <th>319</th>\n",
       "      <th>320</th>\n",
       "      <th>321</th>\n",
       "      <th>322</th>\n",
       "      <th>323</th>\n",
       "      <th>324</th>\n",
       "      <th>325</th>\n",
       "      <th>326</th>\n",
       "      <th>327</th>\n",
       "      <th>328</th>\n",
       "    </tr>\n",
       "  </thead>\n",
       "  <tbody>\n",
       "    <tr>\n",
       "      <th>0</th>\n",
       "      <td>Unnamed: 0</td>\n",
       "      <td>NaT</td>\n",
       "      <td>1995-01-01 00:00:00</td>\n",
       "      <td>1995-02-01 00:00:00</td>\n",
       "      <td>1995-03-01 00:00:00</td>\n",
       "      <td>1995-04-01 00:00:00</td>\n",
       "      <td>1995-05-01 00:00:00</td>\n",
       "      <td>1995-06-01 00:00:00</td>\n",
       "      <td>1995-07-01 00:00:00</td>\n",
       "      <td>1995-08-01 00:00:00</td>\n",
       "      <td>...</td>\n",
       "      <td>2021-07-01 00:00:00</td>\n",
       "      <td>2021-08-01 00:00:00</td>\n",
       "      <td>2021-09-01 00:00:00</td>\n",
       "      <td>2021-10-01 00:00:00</td>\n",
       "      <td>2021-11-01 00:00:00</td>\n",
       "      <td>2021-12-01 00:00:00</td>\n",
       "      <td>2022-01-01 00:00:00</td>\n",
       "      <td>2022-02-01 00:00:00</td>\n",
       "      <td>2022-03-01 00:00:00</td>\n",
       "      <td>2022-04-01 00:00:00</td>\n",
       "    </tr>\n",
       "    <tr>\n",
       "      <th>1</th>\n",
       "      <td>City of London</td>\n",
       "      <td>E09000001</td>\n",
       "      <td>91448.98487</td>\n",
       "      <td>82202.77314</td>\n",
       "      <td>79120.70256</td>\n",
       "      <td>77101.20804</td>\n",
       "      <td>84409.14932</td>\n",
       "      <td>94900.51244</td>\n",
       "      <td>110128.0423</td>\n",
       "      <td>112329.4376</td>\n",
       "      <td>...</td>\n",
       "      <td>946823.5048</td>\n",
       "      <td>951748.3655</td>\n",
       "      <td>956411.5828</td>\n",
       "      <td>792257.5493</td>\n",
       "      <td>798212.3879</td>\n",
       "      <td>813435.102</td>\n",
       "      <td>811508.8041</td>\n",
       "      <td>864897.234</td>\n",
       "      <td>813511.6177</td>\n",
       "      <td>838145.2394</td>\n",
       "    </tr>\n",
       "    <tr>\n",
       "      <th>2</th>\n",
       "      <td>Barking &amp; Dagenham</td>\n",
       "      <td>E09000002</td>\n",
       "      <td>50460.2266</td>\n",
       "      <td>51085.77983</td>\n",
       "      <td>51268.96956</td>\n",
       "      <td>53133.50526</td>\n",
       "      <td>53042.24852</td>\n",
       "      <td>53700.34831</td>\n",
       "      <td>52113.12157</td>\n",
       "      <td>52232.19868</td>\n",
       "      <td>...</td>\n",
       "      <td>309272.9988</td>\n",
       "      <td>313458.6524</td>\n",
       "      <td>315061.8135</td>\n",
       "      <td>326733.2244</td>\n",
       "      <td>327928.3074</td>\n",
       "      <td>329557.0047</td>\n",
       "      <td>338869.7029</td>\n",
       "      <td>345001.3576</td>\n",
       "      <td>346064.5259</td>\n",
       "      <td>336125.8982</td>\n",
       "    </tr>\n",
       "    <tr>\n",
       "      <th>3</th>\n",
       "      <td>Barnet</td>\n",
       "      <td>E09000003</td>\n",
       "      <td>93284.51832</td>\n",
       "      <td>93190.16963</td>\n",
       "      <td>92247.52435</td>\n",
       "      <td>90762.87492</td>\n",
       "      <td>90258.00033</td>\n",
       "      <td>90107.23471</td>\n",
       "      <td>91441.24768</td>\n",
       "      <td>92361.31512</td>\n",
       "      <td>...</td>\n",
       "      <td>543469.3212</td>\n",
       "      <td>557782.6161</td>\n",
       "      <td>556321.1527</td>\n",
       "      <td>574852.5269</td>\n",
       "      <td>577708.2605</td>\n",
       "      <td>583195.3087</td>\n",
       "      <td>580179.6373</td>\n",
       "      <td>576485.8755</td>\n",
       "      <td>576689.7495</td>\n",
       "      <td>596898.1846</td>\n",
       "    </tr>\n",
       "    <tr>\n",
       "      <th>4</th>\n",
       "      <td>Bexley</td>\n",
       "      <td>E09000004</td>\n",
       "      <td>64958.09036</td>\n",
       "      <td>64787.92069</td>\n",
       "      <td>64367.49344</td>\n",
       "      <td>64277.66881</td>\n",
       "      <td>63997.13588</td>\n",
       "      <td>64252.32335</td>\n",
       "      <td>63722.70055</td>\n",
       "      <td>64432.60005</td>\n",
       "      <td>...</td>\n",
       "      <td>366095.067</td>\n",
       "      <td>371295.1503</td>\n",
       "      <td>372283.9658</td>\n",
       "      <td>375783.3263</td>\n",
       "      <td>378961.3767</td>\n",
       "      <td>379526.3458</td>\n",
       "      <td>382270.4215</td>\n",
       "      <td>387171.1018</td>\n",
       "      <td>393246.1533</td>\n",
       "      <td>392154.9821</td>\n",
       "    </tr>\n",
       "  </tbody>\n",
       "</table>\n",
       "<p>5 rows × 330 columns</p>\n",
       "</div>"
      ],
      "text/plain": [
       "                index          0                    1                    2  \\\n",
       "0          Unnamed: 0        NaT  1995-01-01 00:00:00  1995-02-01 00:00:00   \n",
       "1      City of London  E09000001          91448.98487          82202.77314   \n",
       "2  Barking & Dagenham  E09000002           50460.2266          51085.77983   \n",
       "3              Barnet  E09000003          93284.51832          93190.16963   \n",
       "4              Bexley  E09000004          64958.09036          64787.92069   \n",
       "\n",
       "                     3                    4                    5  \\\n",
       "0  1995-03-01 00:00:00  1995-04-01 00:00:00  1995-05-01 00:00:00   \n",
       "1          79120.70256          77101.20804          84409.14932   \n",
       "2          51268.96956          53133.50526          53042.24852   \n",
       "3          92247.52435          90762.87492          90258.00033   \n",
       "4          64367.49344          64277.66881          63997.13588   \n",
       "\n",
       "                     6                    7                    8  ...  \\\n",
       "0  1995-06-01 00:00:00  1995-07-01 00:00:00  1995-08-01 00:00:00  ...   \n",
       "1          94900.51244          110128.0423          112329.4376  ...   \n",
       "2          53700.34831          52113.12157          52232.19868  ...   \n",
       "3          90107.23471          91441.24768          92361.31512  ...   \n",
       "4          64252.32335          63722.70055          64432.60005  ...   \n",
       "\n",
       "                   319                  320                  321  \\\n",
       "0  2021-07-01 00:00:00  2021-08-01 00:00:00  2021-09-01 00:00:00   \n",
       "1          946823.5048          951748.3655          956411.5828   \n",
       "2          309272.9988          313458.6524          315061.8135   \n",
       "3          543469.3212          557782.6161          556321.1527   \n",
       "4           366095.067          371295.1503          372283.9658   \n",
       "\n",
       "                   322                  323                  324  \\\n",
       "0  2021-10-01 00:00:00  2021-11-01 00:00:00  2021-12-01 00:00:00   \n",
       "1          792257.5493          798212.3879           813435.102   \n",
       "2          326733.2244          327928.3074          329557.0047   \n",
       "3          574852.5269          577708.2605          583195.3087   \n",
       "4          375783.3263          378961.3767          379526.3458   \n",
       "\n",
       "                   325                  326                  327  \\\n",
       "0  2022-01-01 00:00:00  2022-02-01 00:00:00  2022-03-01 00:00:00   \n",
       "1          811508.8041           864897.234          813511.6177   \n",
       "2          338869.7029          345001.3576          346064.5259   \n",
       "3          580179.6373          576485.8755          576689.7495   \n",
       "4          382270.4215          387171.1018          393246.1533   \n",
       "\n",
       "                   328  \n",
       "0  2022-04-01 00:00:00  \n",
       "1          838145.2394  \n",
       "2          336125.8982  \n",
       "3          596898.1846  \n",
       "4          392154.9821  \n",
       "\n",
       "[5 rows x 330 columns]"
      ]
     },
     "execution_count": 62,
     "metadata": {},
     "output_type": "execute_result"
    }
   ],
   "source": [
    "props_t = properties.transpose() #transposes properties df\n",
    "props_t = props_t.reset_index() #resets index to be numerical instead of by borough name\n",
    "props_t.head(5)"
   ]
  },
  {
   "cell_type": "code",
   "execution_count": 63,
   "metadata": {},
   "outputs": [
    {
     "data": {
      "text/html": [
       "<div>\n",
       "<style scoped>\n",
       "    .dataframe tbody tr th:only-of-type {\n",
       "        vertical-align: middle;\n",
       "    }\n",
       "\n",
       "    .dataframe tbody tr th {\n",
       "        vertical-align: top;\n",
       "    }\n",
       "\n",
       "    .dataframe thead th {\n",
       "        text-align: right;\n",
       "    }\n",
       "</style>\n",
       "<table border=\"1\" class=\"dataframe\">\n",
       "  <thead>\n",
       "    <tr style=\"text-align: right;\">\n",
       "      <th></th>\n",
       "      <th>Unnamed: 0</th>\n",
       "      <th>NaN</th>\n",
       "      <th>1995-01-01 00:00:00</th>\n",
       "      <th>1995-02-01 00:00:00</th>\n",
       "      <th>1995-03-01 00:00:00</th>\n",
       "      <th>1995-04-01 00:00:00</th>\n",
       "      <th>1995-05-01 00:00:00</th>\n",
       "      <th>1995-06-01 00:00:00</th>\n",
       "      <th>1995-07-01 00:00:00</th>\n",
       "      <th>1995-08-01 00:00:00</th>\n",
       "      <th>...</th>\n",
       "      <th>2021-07-01 00:00:00</th>\n",
       "      <th>2021-08-01 00:00:00</th>\n",
       "      <th>2021-09-01 00:00:00</th>\n",
       "      <th>2021-10-01 00:00:00</th>\n",
       "      <th>2021-11-01 00:00:00</th>\n",
       "      <th>2021-12-01 00:00:00</th>\n",
       "      <th>2022-01-01 00:00:00</th>\n",
       "      <th>2022-02-01 00:00:00</th>\n",
       "      <th>2022-03-01 00:00:00</th>\n",
       "      <th>2022-04-01 00:00:00</th>\n",
       "    </tr>\n",
       "  </thead>\n",
       "  <tbody>\n",
       "    <tr>\n",
       "      <th>0</th>\n",
       "      <td>Unnamed: 0</td>\n",
       "      <td>NaT</td>\n",
       "      <td>1995-01-01 00:00:00</td>\n",
       "      <td>1995-02-01 00:00:00</td>\n",
       "      <td>1995-03-01 00:00:00</td>\n",
       "      <td>1995-04-01 00:00:00</td>\n",
       "      <td>1995-05-01 00:00:00</td>\n",
       "      <td>1995-06-01 00:00:00</td>\n",
       "      <td>1995-07-01 00:00:00</td>\n",
       "      <td>1995-08-01 00:00:00</td>\n",
       "      <td>...</td>\n",
       "      <td>2021-07-01 00:00:00</td>\n",
       "      <td>2021-08-01 00:00:00</td>\n",
       "      <td>2021-09-01 00:00:00</td>\n",
       "      <td>2021-10-01 00:00:00</td>\n",
       "      <td>2021-11-01 00:00:00</td>\n",
       "      <td>2021-12-01 00:00:00</td>\n",
       "      <td>2022-01-01 00:00:00</td>\n",
       "      <td>2022-02-01 00:00:00</td>\n",
       "      <td>2022-03-01 00:00:00</td>\n",
       "      <td>2022-04-01 00:00:00</td>\n",
       "    </tr>\n",
       "    <tr>\n",
       "      <th>1</th>\n",
       "      <td>City of London</td>\n",
       "      <td>E09000001</td>\n",
       "      <td>91448.98487</td>\n",
       "      <td>82202.77314</td>\n",
       "      <td>79120.70256</td>\n",
       "      <td>77101.20804</td>\n",
       "      <td>84409.14932</td>\n",
       "      <td>94900.51244</td>\n",
       "      <td>110128.0423</td>\n",
       "      <td>112329.4376</td>\n",
       "      <td>...</td>\n",
       "      <td>946823.5048</td>\n",
       "      <td>951748.3655</td>\n",
       "      <td>956411.5828</td>\n",
       "      <td>792257.5493</td>\n",
       "      <td>798212.3879</td>\n",
       "      <td>813435.102</td>\n",
       "      <td>811508.8041</td>\n",
       "      <td>864897.234</td>\n",
       "      <td>813511.6177</td>\n",
       "      <td>838145.2394</td>\n",
       "    </tr>\n",
       "    <tr>\n",
       "      <th>2</th>\n",
       "      <td>Barking &amp; Dagenham</td>\n",
       "      <td>E09000002</td>\n",
       "      <td>50460.2266</td>\n",
       "      <td>51085.77983</td>\n",
       "      <td>51268.96956</td>\n",
       "      <td>53133.50526</td>\n",
       "      <td>53042.24852</td>\n",
       "      <td>53700.34831</td>\n",
       "      <td>52113.12157</td>\n",
       "      <td>52232.19868</td>\n",
       "      <td>...</td>\n",
       "      <td>309272.9988</td>\n",
       "      <td>313458.6524</td>\n",
       "      <td>315061.8135</td>\n",
       "      <td>326733.2244</td>\n",
       "      <td>327928.3074</td>\n",
       "      <td>329557.0047</td>\n",
       "      <td>338869.7029</td>\n",
       "      <td>345001.3576</td>\n",
       "      <td>346064.5259</td>\n",
       "      <td>336125.8982</td>\n",
       "    </tr>\n",
       "    <tr>\n",
       "      <th>3</th>\n",
       "      <td>Barnet</td>\n",
       "      <td>E09000003</td>\n",
       "      <td>93284.51832</td>\n",
       "      <td>93190.16963</td>\n",
       "      <td>92247.52435</td>\n",
       "      <td>90762.87492</td>\n",
       "      <td>90258.00033</td>\n",
       "      <td>90107.23471</td>\n",
       "      <td>91441.24768</td>\n",
       "      <td>92361.31512</td>\n",
       "      <td>...</td>\n",
       "      <td>543469.3212</td>\n",
       "      <td>557782.6161</td>\n",
       "      <td>556321.1527</td>\n",
       "      <td>574852.5269</td>\n",
       "      <td>577708.2605</td>\n",
       "      <td>583195.3087</td>\n",
       "      <td>580179.6373</td>\n",
       "      <td>576485.8755</td>\n",
       "      <td>576689.7495</td>\n",
       "      <td>596898.1846</td>\n",
       "    </tr>\n",
       "    <tr>\n",
       "      <th>4</th>\n",
       "      <td>Bexley</td>\n",
       "      <td>E09000004</td>\n",
       "      <td>64958.09036</td>\n",
       "      <td>64787.92069</td>\n",
       "      <td>64367.49344</td>\n",
       "      <td>64277.66881</td>\n",
       "      <td>63997.13588</td>\n",
       "      <td>64252.32335</td>\n",
       "      <td>63722.70055</td>\n",
       "      <td>64432.60005</td>\n",
       "      <td>...</td>\n",
       "      <td>366095.067</td>\n",
       "      <td>371295.1503</td>\n",
       "      <td>372283.9658</td>\n",
       "      <td>375783.3263</td>\n",
       "      <td>378961.3767</td>\n",
       "      <td>379526.3458</td>\n",
       "      <td>382270.4215</td>\n",
       "      <td>387171.1018</td>\n",
       "      <td>393246.1533</td>\n",
       "      <td>392154.9821</td>\n",
       "    </tr>\n",
       "  </tbody>\n",
       "</table>\n",
       "<p>5 rows × 330 columns</p>\n",
       "</div>"
      ],
      "text/plain": [
       "0          Unnamed: 0        NaN  1995-01-01 00:00:00  1995-02-01 00:00:00  \\\n",
       "0          Unnamed: 0        NaT  1995-01-01 00:00:00  1995-02-01 00:00:00   \n",
       "1      City of London  E09000001          91448.98487          82202.77314   \n",
       "2  Barking & Dagenham  E09000002           50460.2266          51085.77983   \n",
       "3              Barnet  E09000003          93284.51832          93190.16963   \n",
       "4              Bexley  E09000004          64958.09036          64787.92069   \n",
       "\n",
       "0  1995-03-01 00:00:00  1995-04-01 00:00:00  1995-05-01 00:00:00  \\\n",
       "0  1995-03-01 00:00:00  1995-04-01 00:00:00  1995-05-01 00:00:00   \n",
       "1          79120.70256          77101.20804          84409.14932   \n",
       "2          51268.96956          53133.50526          53042.24852   \n",
       "3          92247.52435          90762.87492          90258.00033   \n",
       "4          64367.49344          64277.66881          63997.13588   \n",
       "\n",
       "0  1995-06-01 00:00:00  1995-07-01 00:00:00  1995-08-01 00:00:00  ...  \\\n",
       "0  1995-06-01 00:00:00  1995-07-01 00:00:00  1995-08-01 00:00:00  ...   \n",
       "1          94900.51244          110128.0423          112329.4376  ...   \n",
       "2          53700.34831          52113.12157          52232.19868  ...   \n",
       "3          90107.23471          91441.24768          92361.31512  ...   \n",
       "4          64252.32335          63722.70055          64432.60005  ...   \n",
       "\n",
       "0  2021-07-01 00:00:00  2021-08-01 00:00:00  2021-09-01 00:00:00  \\\n",
       "0  2021-07-01 00:00:00  2021-08-01 00:00:00  2021-09-01 00:00:00   \n",
       "1          946823.5048          951748.3655          956411.5828   \n",
       "2          309272.9988          313458.6524          315061.8135   \n",
       "3          543469.3212          557782.6161          556321.1527   \n",
       "4           366095.067          371295.1503          372283.9658   \n",
       "\n",
       "0  2021-10-01 00:00:00  2021-11-01 00:00:00  2021-12-01 00:00:00  \\\n",
       "0  2021-10-01 00:00:00  2021-11-01 00:00:00  2021-12-01 00:00:00   \n",
       "1          792257.5493          798212.3879           813435.102   \n",
       "2          326733.2244          327928.3074          329557.0047   \n",
       "3          574852.5269          577708.2605          583195.3087   \n",
       "4          375783.3263          378961.3767          379526.3458   \n",
       "\n",
       "0  2022-01-01 00:00:00  2022-02-01 00:00:00  2022-03-01 00:00:00  \\\n",
       "0  2022-01-01 00:00:00  2022-02-01 00:00:00  2022-03-01 00:00:00   \n",
       "1          811508.8041           864897.234          813511.6177   \n",
       "2          338869.7029          345001.3576          346064.5259   \n",
       "3          580179.6373          576485.8755          576689.7495   \n",
       "4          382270.4215          387171.1018          393246.1533   \n",
       "\n",
       "0  2022-04-01 00:00:00  \n",
       "0  2022-04-01 00:00:00  \n",
       "1          838145.2394  \n",
       "2          336125.8982  \n",
       "3          596898.1846  \n",
       "4          392154.9821  \n",
       "\n",
       "[5 rows x 330 columns]"
      ]
     },
     "execution_count": 63,
     "metadata": {},
     "output_type": "execute_result"
    }
   ],
   "source": [
    "props_t.columns = props_t.iloc[0] #assigns column names to be those of row 1(index0)\n",
    "props_t.head(5)"
   ]
  },
  {
   "cell_type": "code",
   "execution_count": 64,
   "metadata": {},
   "outputs": [
    {
     "data": {
      "text/html": [
       "<div>\n",
       "<style scoped>\n",
       "    .dataframe tbody tr th:only-of-type {\n",
       "        vertical-align: middle;\n",
       "    }\n",
       "\n",
       "    .dataframe tbody tr th {\n",
       "        vertical-align: top;\n",
       "    }\n",
       "\n",
       "    .dataframe thead th {\n",
       "        text-align: right;\n",
       "    }\n",
       "</style>\n",
       "<table border=\"1\" class=\"dataframe\">\n",
       "  <thead>\n",
       "    <tr style=\"text-align: right;\">\n",
       "      <th></th>\n",
       "      <th>Unnamed: 0</th>\n",
       "      <th>NaN</th>\n",
       "      <th>1995-01-01 00:00:00</th>\n",
       "      <th>1995-02-01 00:00:00</th>\n",
       "      <th>1995-03-01 00:00:00</th>\n",
       "      <th>1995-04-01 00:00:00</th>\n",
       "      <th>1995-05-01 00:00:00</th>\n",
       "      <th>1995-06-01 00:00:00</th>\n",
       "      <th>1995-07-01 00:00:00</th>\n",
       "      <th>1995-08-01 00:00:00</th>\n",
       "      <th>...</th>\n",
       "      <th>2021-07-01 00:00:00</th>\n",
       "      <th>2021-08-01 00:00:00</th>\n",
       "      <th>2021-09-01 00:00:00</th>\n",
       "      <th>2021-10-01 00:00:00</th>\n",
       "      <th>2021-11-01 00:00:00</th>\n",
       "      <th>2021-12-01 00:00:00</th>\n",
       "      <th>2022-01-01 00:00:00</th>\n",
       "      <th>2022-02-01 00:00:00</th>\n",
       "      <th>2022-03-01 00:00:00</th>\n",
       "      <th>2022-04-01 00:00:00</th>\n",
       "    </tr>\n",
       "  </thead>\n",
       "  <tbody>\n",
       "    <tr>\n",
       "      <th>1</th>\n",
       "      <td>City of London</td>\n",
       "      <td>E09000001</td>\n",
       "      <td>91448.98487</td>\n",
       "      <td>82202.77314</td>\n",
       "      <td>79120.70256</td>\n",
       "      <td>77101.20804</td>\n",
       "      <td>84409.14932</td>\n",
       "      <td>94900.51244</td>\n",
       "      <td>110128.0423</td>\n",
       "      <td>112329.4376</td>\n",
       "      <td>...</td>\n",
       "      <td>946823.5048</td>\n",
       "      <td>951748.3655</td>\n",
       "      <td>956411.5828</td>\n",
       "      <td>792257.5493</td>\n",
       "      <td>798212.3879</td>\n",
       "      <td>813435.102</td>\n",
       "      <td>811508.8041</td>\n",
       "      <td>864897.234</td>\n",
       "      <td>813511.6177</td>\n",
       "      <td>838145.2394</td>\n",
       "    </tr>\n",
       "    <tr>\n",
       "      <th>2</th>\n",
       "      <td>Barking &amp; Dagenham</td>\n",
       "      <td>E09000002</td>\n",
       "      <td>50460.2266</td>\n",
       "      <td>51085.77983</td>\n",
       "      <td>51268.96956</td>\n",
       "      <td>53133.50526</td>\n",
       "      <td>53042.24852</td>\n",
       "      <td>53700.34831</td>\n",
       "      <td>52113.12157</td>\n",
       "      <td>52232.19868</td>\n",
       "      <td>...</td>\n",
       "      <td>309272.9988</td>\n",
       "      <td>313458.6524</td>\n",
       "      <td>315061.8135</td>\n",
       "      <td>326733.2244</td>\n",
       "      <td>327928.3074</td>\n",
       "      <td>329557.0047</td>\n",
       "      <td>338869.7029</td>\n",
       "      <td>345001.3576</td>\n",
       "      <td>346064.5259</td>\n",
       "      <td>336125.8982</td>\n",
       "    </tr>\n",
       "    <tr>\n",
       "      <th>3</th>\n",
       "      <td>Barnet</td>\n",
       "      <td>E09000003</td>\n",
       "      <td>93284.51832</td>\n",
       "      <td>93190.16963</td>\n",
       "      <td>92247.52435</td>\n",
       "      <td>90762.87492</td>\n",
       "      <td>90258.00033</td>\n",
       "      <td>90107.23471</td>\n",
       "      <td>91441.24768</td>\n",
       "      <td>92361.31512</td>\n",
       "      <td>...</td>\n",
       "      <td>543469.3212</td>\n",
       "      <td>557782.6161</td>\n",
       "      <td>556321.1527</td>\n",
       "      <td>574852.5269</td>\n",
       "      <td>577708.2605</td>\n",
       "      <td>583195.3087</td>\n",
       "      <td>580179.6373</td>\n",
       "      <td>576485.8755</td>\n",
       "      <td>576689.7495</td>\n",
       "      <td>596898.1846</td>\n",
       "    </tr>\n",
       "    <tr>\n",
       "      <th>4</th>\n",
       "      <td>Bexley</td>\n",
       "      <td>E09000004</td>\n",
       "      <td>64958.09036</td>\n",
       "      <td>64787.92069</td>\n",
       "      <td>64367.49344</td>\n",
       "      <td>64277.66881</td>\n",
       "      <td>63997.13588</td>\n",
       "      <td>64252.32335</td>\n",
       "      <td>63722.70055</td>\n",
       "      <td>64432.60005</td>\n",
       "      <td>...</td>\n",
       "      <td>366095.067</td>\n",
       "      <td>371295.1503</td>\n",
       "      <td>372283.9658</td>\n",
       "      <td>375783.3263</td>\n",
       "      <td>378961.3767</td>\n",
       "      <td>379526.3458</td>\n",
       "      <td>382270.4215</td>\n",
       "      <td>387171.1018</td>\n",
       "      <td>393246.1533</td>\n",
       "      <td>392154.9821</td>\n",
       "    </tr>\n",
       "    <tr>\n",
       "      <th>5</th>\n",
       "      <td>Brent</td>\n",
       "      <td>E09000005</td>\n",
       "      <td>71306.56698</td>\n",
       "      <td>72022.26197</td>\n",
       "      <td>72015.76274</td>\n",
       "      <td>72965.63094</td>\n",
       "      <td>73704.04743</td>\n",
       "      <td>74310.48167</td>\n",
       "      <td>74127.03788</td>\n",
       "      <td>73547.0411</td>\n",
       "      <td>...</td>\n",
       "      <td>525953.4981</td>\n",
       "      <td>519967.3789</td>\n",
       "      <td>516871.8266</td>\n",
       "      <td>509397.4875</td>\n",
       "      <td>515067.9083</td>\n",
       "      <td>518958.5856</td>\n",
       "      <td>519652.186</td>\n",
       "      <td>525664.3639</td>\n",
       "      <td>532006.6781</td>\n",
       "      <td>546934.1163</td>\n",
       "    </tr>\n",
       "  </tbody>\n",
       "</table>\n",
       "<p>5 rows × 330 columns</p>\n",
       "</div>"
      ],
      "text/plain": [
       "0          Unnamed: 0        NaN 1995-01-01 00:00:00 1995-02-01 00:00:00  \\\n",
       "1      City of London  E09000001         91448.98487         82202.77314   \n",
       "2  Barking & Dagenham  E09000002          50460.2266         51085.77983   \n",
       "3              Barnet  E09000003         93284.51832         93190.16963   \n",
       "4              Bexley  E09000004         64958.09036         64787.92069   \n",
       "5               Brent  E09000005         71306.56698         72022.26197   \n",
       "\n",
       "0 1995-03-01 00:00:00 1995-04-01 00:00:00 1995-05-01 00:00:00  \\\n",
       "1         79120.70256         77101.20804         84409.14932   \n",
       "2         51268.96956         53133.50526         53042.24852   \n",
       "3         92247.52435         90762.87492         90258.00033   \n",
       "4         64367.49344         64277.66881         63997.13588   \n",
       "5         72015.76274         72965.63094         73704.04743   \n",
       "\n",
       "0 1995-06-01 00:00:00 1995-07-01 00:00:00 1995-08-01 00:00:00  ...  \\\n",
       "1         94900.51244         110128.0423         112329.4376  ...   \n",
       "2         53700.34831         52113.12157         52232.19868  ...   \n",
       "3         90107.23471         91441.24768         92361.31512  ...   \n",
       "4         64252.32335         63722.70055         64432.60005  ...   \n",
       "5         74310.48167         74127.03788          73547.0411  ...   \n",
       "\n",
       "0 2021-07-01 00:00:00 2021-08-01 00:00:00 2021-09-01 00:00:00  \\\n",
       "1         946823.5048         951748.3655         956411.5828   \n",
       "2         309272.9988         313458.6524         315061.8135   \n",
       "3         543469.3212         557782.6161         556321.1527   \n",
       "4          366095.067         371295.1503         372283.9658   \n",
       "5         525953.4981         519967.3789         516871.8266   \n",
       "\n",
       "0 2021-10-01 00:00:00 2021-11-01 00:00:00 2021-12-01 00:00:00  \\\n",
       "1         792257.5493         798212.3879          813435.102   \n",
       "2         326733.2244         327928.3074         329557.0047   \n",
       "3         574852.5269         577708.2605         583195.3087   \n",
       "4         375783.3263         378961.3767         379526.3458   \n",
       "5         509397.4875         515067.9083         518958.5856   \n",
       "\n",
       "0 2022-01-01 00:00:00 2022-02-01 00:00:00 2022-03-01 00:00:00  \\\n",
       "1         811508.8041          864897.234         813511.6177   \n",
       "2         338869.7029         345001.3576         346064.5259   \n",
       "3         580179.6373         576485.8755         576689.7495   \n",
       "4         382270.4215         387171.1018         393246.1533   \n",
       "5          519652.186         525664.3639         532006.6781   \n",
       "\n",
       "0 2022-04-01 00:00:00  \n",
       "1         838145.2394  \n",
       "2         336125.8982  \n",
       "3         596898.1846  \n",
       "4         392154.9821  \n",
       "5         546934.1163  \n",
       "\n",
       "[5 rows x 330 columns]"
      ]
     },
     "execution_count": 64,
     "metadata": {},
     "output_type": "execute_result"
    }
   ],
   "source": [
    "props_t = props_t.drop(props_t.index[0]) #drops row at index0\n",
    "props_t.head(5)"
   ]
  },
  {
   "cell_type": "markdown",
   "metadata": {
    "colab_type": "text",
    "id": "o1uLbJAsoIjK"
   },
   "source": [
    "**2.3. Cleaning the data (part 2)**\n",
    "\n",
    "You might we have to **rename** a couple columns. How do you do this? The clue's pretty bold..."
   ]
  },
  {
   "cell_type": "code",
   "execution_count": 65,
   "metadata": {
    "colab": {},
    "colab_type": "code",
    "id": "GKkmn1AnoVZS"
   },
   "outputs": [
    {
     "data": {
      "text/html": [
       "<div>\n",
       "<style scoped>\n",
       "    .dataframe tbody tr th:only-of-type {\n",
       "        vertical-align: middle;\n",
       "    }\n",
       "\n",
       "    .dataframe tbody tr th {\n",
       "        vertical-align: top;\n",
       "    }\n",
       "\n",
       "    .dataframe thead th {\n",
       "        text-align: right;\n",
       "    }\n",
       "</style>\n",
       "<table border=\"1\" class=\"dataframe\">\n",
       "  <thead>\n",
       "    <tr style=\"text-align: right;\">\n",
       "      <th></th>\n",
       "      <th>Borough_Name</th>\n",
       "      <th>GSS_Code</th>\n",
       "      <th>1995-01-01 00:00:00</th>\n",
       "      <th>1995-02-01 00:00:00</th>\n",
       "      <th>1995-03-01 00:00:00</th>\n",
       "      <th>1995-04-01 00:00:00</th>\n",
       "      <th>1995-05-01 00:00:00</th>\n",
       "      <th>1995-06-01 00:00:00</th>\n",
       "      <th>1995-07-01 00:00:00</th>\n",
       "      <th>1995-08-01 00:00:00</th>\n",
       "      <th>...</th>\n",
       "      <th>2021-07-01 00:00:00</th>\n",
       "      <th>2021-08-01 00:00:00</th>\n",
       "      <th>2021-09-01 00:00:00</th>\n",
       "      <th>2021-10-01 00:00:00</th>\n",
       "      <th>2021-11-01 00:00:00</th>\n",
       "      <th>2021-12-01 00:00:00</th>\n",
       "      <th>2022-01-01 00:00:00</th>\n",
       "      <th>2022-02-01 00:00:00</th>\n",
       "      <th>2022-03-01 00:00:00</th>\n",
       "      <th>2022-04-01 00:00:00</th>\n",
       "    </tr>\n",
       "  </thead>\n",
       "  <tbody>\n",
       "    <tr>\n",
       "      <th>1</th>\n",
       "      <td>City of London</td>\n",
       "      <td>E09000001</td>\n",
       "      <td>91448.98487</td>\n",
       "      <td>82202.77314</td>\n",
       "      <td>79120.70256</td>\n",
       "      <td>77101.20804</td>\n",
       "      <td>84409.14932</td>\n",
       "      <td>94900.51244</td>\n",
       "      <td>110128.0423</td>\n",
       "      <td>112329.4376</td>\n",
       "      <td>...</td>\n",
       "      <td>946823.5048</td>\n",
       "      <td>951748.3655</td>\n",
       "      <td>956411.5828</td>\n",
       "      <td>792257.5493</td>\n",
       "      <td>798212.3879</td>\n",
       "      <td>813435.102</td>\n",
       "      <td>811508.8041</td>\n",
       "      <td>864897.234</td>\n",
       "      <td>813511.6177</td>\n",
       "      <td>838145.2394</td>\n",
       "    </tr>\n",
       "    <tr>\n",
       "      <th>2</th>\n",
       "      <td>Barking &amp; Dagenham</td>\n",
       "      <td>E09000002</td>\n",
       "      <td>50460.2266</td>\n",
       "      <td>51085.77983</td>\n",
       "      <td>51268.96956</td>\n",
       "      <td>53133.50526</td>\n",
       "      <td>53042.24852</td>\n",
       "      <td>53700.34831</td>\n",
       "      <td>52113.12157</td>\n",
       "      <td>52232.19868</td>\n",
       "      <td>...</td>\n",
       "      <td>309272.9988</td>\n",
       "      <td>313458.6524</td>\n",
       "      <td>315061.8135</td>\n",
       "      <td>326733.2244</td>\n",
       "      <td>327928.3074</td>\n",
       "      <td>329557.0047</td>\n",
       "      <td>338869.7029</td>\n",
       "      <td>345001.3576</td>\n",
       "      <td>346064.5259</td>\n",
       "      <td>336125.8982</td>\n",
       "    </tr>\n",
       "    <tr>\n",
       "      <th>3</th>\n",
       "      <td>Barnet</td>\n",
       "      <td>E09000003</td>\n",
       "      <td>93284.51832</td>\n",
       "      <td>93190.16963</td>\n",
       "      <td>92247.52435</td>\n",
       "      <td>90762.87492</td>\n",
       "      <td>90258.00033</td>\n",
       "      <td>90107.23471</td>\n",
       "      <td>91441.24768</td>\n",
       "      <td>92361.31512</td>\n",
       "      <td>...</td>\n",
       "      <td>543469.3212</td>\n",
       "      <td>557782.6161</td>\n",
       "      <td>556321.1527</td>\n",
       "      <td>574852.5269</td>\n",
       "      <td>577708.2605</td>\n",
       "      <td>583195.3087</td>\n",
       "      <td>580179.6373</td>\n",
       "      <td>576485.8755</td>\n",
       "      <td>576689.7495</td>\n",
       "      <td>596898.1846</td>\n",
       "    </tr>\n",
       "    <tr>\n",
       "      <th>4</th>\n",
       "      <td>Bexley</td>\n",
       "      <td>E09000004</td>\n",
       "      <td>64958.09036</td>\n",
       "      <td>64787.92069</td>\n",
       "      <td>64367.49344</td>\n",
       "      <td>64277.66881</td>\n",
       "      <td>63997.13588</td>\n",
       "      <td>64252.32335</td>\n",
       "      <td>63722.70055</td>\n",
       "      <td>64432.60005</td>\n",
       "      <td>...</td>\n",
       "      <td>366095.067</td>\n",
       "      <td>371295.1503</td>\n",
       "      <td>372283.9658</td>\n",
       "      <td>375783.3263</td>\n",
       "      <td>378961.3767</td>\n",
       "      <td>379526.3458</td>\n",
       "      <td>382270.4215</td>\n",
       "      <td>387171.1018</td>\n",
       "      <td>393246.1533</td>\n",
       "      <td>392154.9821</td>\n",
       "    </tr>\n",
       "    <tr>\n",
       "      <th>5</th>\n",
       "      <td>Brent</td>\n",
       "      <td>E09000005</td>\n",
       "      <td>71306.56698</td>\n",
       "      <td>72022.26197</td>\n",
       "      <td>72015.76274</td>\n",
       "      <td>72965.63094</td>\n",
       "      <td>73704.04743</td>\n",
       "      <td>74310.48167</td>\n",
       "      <td>74127.03788</td>\n",
       "      <td>73547.0411</td>\n",
       "      <td>...</td>\n",
       "      <td>525953.4981</td>\n",
       "      <td>519967.3789</td>\n",
       "      <td>516871.8266</td>\n",
       "      <td>509397.4875</td>\n",
       "      <td>515067.9083</td>\n",
       "      <td>518958.5856</td>\n",
       "      <td>519652.186</td>\n",
       "      <td>525664.3639</td>\n",
       "      <td>532006.6781</td>\n",
       "      <td>546934.1163</td>\n",
       "    </tr>\n",
       "  </tbody>\n",
       "</table>\n",
       "<p>5 rows × 330 columns</p>\n",
       "</div>"
      ],
      "text/plain": [
       "0        Borough_Name   GSS_Code 1995-01-01 00:00:00 1995-02-01 00:00:00  \\\n",
       "1      City of London  E09000001         91448.98487         82202.77314   \n",
       "2  Barking & Dagenham  E09000002          50460.2266         51085.77983   \n",
       "3              Barnet  E09000003         93284.51832         93190.16963   \n",
       "4              Bexley  E09000004         64958.09036         64787.92069   \n",
       "5               Brent  E09000005         71306.56698         72022.26197   \n",
       "\n",
       "0 1995-03-01 00:00:00 1995-04-01 00:00:00 1995-05-01 00:00:00  \\\n",
       "1         79120.70256         77101.20804         84409.14932   \n",
       "2         51268.96956         53133.50526         53042.24852   \n",
       "3         92247.52435         90762.87492         90258.00033   \n",
       "4         64367.49344         64277.66881         63997.13588   \n",
       "5         72015.76274         72965.63094         73704.04743   \n",
       "\n",
       "0 1995-06-01 00:00:00 1995-07-01 00:00:00 1995-08-01 00:00:00  ...  \\\n",
       "1         94900.51244         110128.0423         112329.4376  ...   \n",
       "2         53700.34831         52113.12157         52232.19868  ...   \n",
       "3         90107.23471         91441.24768         92361.31512  ...   \n",
       "4         64252.32335         63722.70055         64432.60005  ...   \n",
       "5         74310.48167         74127.03788          73547.0411  ...   \n",
       "\n",
       "0 2021-07-01 00:00:00 2021-08-01 00:00:00 2021-09-01 00:00:00  \\\n",
       "1         946823.5048         951748.3655         956411.5828   \n",
       "2         309272.9988         313458.6524         315061.8135   \n",
       "3         543469.3212         557782.6161         556321.1527   \n",
       "4          366095.067         371295.1503         372283.9658   \n",
       "5         525953.4981         519967.3789         516871.8266   \n",
       "\n",
       "0 2021-10-01 00:00:00 2021-11-01 00:00:00 2021-12-01 00:00:00  \\\n",
       "1         792257.5493         798212.3879          813435.102   \n",
       "2         326733.2244         327928.3074         329557.0047   \n",
       "3         574852.5269         577708.2605         583195.3087   \n",
       "4         375783.3263         378961.3767         379526.3458   \n",
       "5         509397.4875         515067.9083         518958.5856   \n",
       "\n",
       "0 2022-01-01 00:00:00 2022-02-01 00:00:00 2022-03-01 00:00:00  \\\n",
       "1         811508.8041          864897.234         813511.6177   \n",
       "2         338869.7029         345001.3576         346064.5259   \n",
       "3         580179.6373         576485.8755         576689.7495   \n",
       "4         382270.4215         387171.1018         393246.1533   \n",
       "5          519652.186         525664.3639         532006.6781   \n",
       "\n",
       "0 2022-04-01 00:00:00  \n",
       "1         838145.2394  \n",
       "2         336125.8982  \n",
       "3         596898.1846  \n",
       "4         392154.9821  \n",
       "5         546934.1163  \n",
       "\n",
       "[5 rows x 330 columns]"
      ]
     },
     "execution_count": 65,
     "metadata": {},
     "output_type": "execute_result"
    }
   ],
   "source": [
    "#renames columns, NaN must be denoted as pd.NaT\n",
    "props_t = props_t.rename({'Unnamed: 0':'Borough_Name',pd.NaT:'GSS_Code'}, axis='columns') \n",
    "props_t.head(5)"
   ]
  },
  {
   "cell_type": "markdown",
   "metadata": {
    "colab_type": "text",
    "id": "jy8BzXHmoWEw"
   },
   "source": [
    "**2.4.Transforming the data**\n",
    "\n",
    "Remember what Wes McKinney said about tidy data? \n",
    "\n",
    "You might need to **melt** your DataFrame here. "
   ]
  },
  {
   "cell_type": "code",
   "execution_count": 66,
   "metadata": {
    "colab": {},
    "colab_type": "code",
    "id": "S2wM0qLuo2Zt",
    "scrolled": true
   },
   "outputs": [
    {
     "data": {
      "text/html": [
       "<div>\n",
       "<style scoped>\n",
       "    .dataframe tbody tr th:only-of-type {\n",
       "        vertical-align: middle;\n",
       "    }\n",
       "\n",
       "    .dataframe tbody tr th {\n",
       "        vertical-align: top;\n",
       "    }\n",
       "\n",
       "    .dataframe thead th {\n",
       "        text-align: right;\n",
       "    }\n",
       "</style>\n",
       "<table border=\"1\" class=\"dataframe\">\n",
       "  <thead>\n",
       "    <tr style=\"text-align: right;\">\n",
       "      <th></th>\n",
       "      <th>GSS_Code</th>\n",
       "      <th>Borough_Name</th>\n",
       "      <th>date</th>\n",
       "      <th>avg_price</th>\n",
       "    </tr>\n",
       "  </thead>\n",
       "  <tbody>\n",
       "    <tr>\n",
       "      <th>0</th>\n",
       "      <td>E09000001</td>\n",
       "      <td>City of London</td>\n",
       "      <td>1995-01-01</td>\n",
       "      <td>91448.98487</td>\n",
       "    </tr>\n",
       "    <tr>\n",
       "      <th>1</th>\n",
       "      <td>E09000002</td>\n",
       "      <td>Barking &amp; Dagenham</td>\n",
       "      <td>1995-01-01</td>\n",
       "      <td>50460.2266</td>\n",
       "    </tr>\n",
       "    <tr>\n",
       "      <th>2</th>\n",
       "      <td>E09000003</td>\n",
       "      <td>Barnet</td>\n",
       "      <td>1995-01-01</td>\n",
       "      <td>93284.51832</td>\n",
       "    </tr>\n",
       "    <tr>\n",
       "      <th>3</th>\n",
       "      <td>E09000004</td>\n",
       "      <td>Bexley</td>\n",
       "      <td>1995-01-01</td>\n",
       "      <td>64958.09036</td>\n",
       "    </tr>\n",
       "    <tr>\n",
       "      <th>4</th>\n",
       "      <td>E09000005</td>\n",
       "      <td>Brent</td>\n",
       "      <td>1995-01-01</td>\n",
       "      <td>71306.56698</td>\n",
       "    </tr>\n",
       "  </tbody>\n",
       "</table>\n",
       "</div>"
      ],
      "text/plain": [
       "    GSS_Code        Borough_Name       date    avg_price\n",
       "0  E09000001      City of London 1995-01-01  91448.98487\n",
       "1  E09000002  Barking & Dagenham 1995-01-01   50460.2266\n",
       "2  E09000003              Barnet 1995-01-01  93284.51832\n",
       "3  E09000004              Bexley 1995-01-01  64958.09036\n",
       "4  E09000005               Brent 1995-01-01  71306.56698"
      ]
     },
     "execution_count": 66,
     "metadata": {},
     "output_type": "execute_result"
    }
   ],
   "source": [
    "#melts df to put months and price in columns instead of rows\n",
    "props_tall = props_t.melt(id_vars = [\"GSS_Code\",\"Borough_Name\"],var_name='date',value_name='avg_price')\n",
    "props_tall.head(5)"
   ]
  },
  {
   "cell_type": "markdown",
   "metadata": {
    "colab_type": "text",
    "id": "7kIsgAo7o3mf"
   },
   "source": [
    "Remember to make sure your column data types are all correct. Average prices, for example, should be floating point numbers... "
   ]
  },
  {
   "cell_type": "code",
   "execution_count": 67,
   "metadata": {
    "colab": {},
    "colab_type": "code",
    "id": "ZcR4IHbcpOaq"
   },
   "outputs": [],
   "source": [
    "#converts avg_price to float instead of object type \n",
    "props_tall[\"avg_price\"] = pd.to_numeric(props_tall[\"avg_price\"])"
   ]
  },
  {
   "cell_type": "markdown",
   "metadata": {
    "colab_type": "text",
    "id": "knLUXHLypOtw"
   },
   "source": [
    "**2.5. Cleaning the data (part 3)**\n",
    "\n",
    "Do we have an equal number of observations in the ID, Average Price, Month, and London Borough columns? Remember that there are only 32 London Boroughs. How many entries do you have in that column? \n",
    "\n",
    "Check out the contents of the London Borough column, and if you find null values, get rid of them however you see fit. "
   ]
  },
  {
   "cell_type": "code",
   "execution_count": 68,
   "metadata": {
    "colab": {},
    "colab_type": "code",
    "id": "BnvTW5a3p0fC"
   },
   "outputs": [
    {
     "data": {
      "text/plain": [
       "array(['City of London', 'Barking & Dagenham', 'Barnet', 'Bexley',\n",
       "       'Brent', 'Bromley', 'Camden', 'Croydon', 'Ealing', 'Enfield',\n",
       "       'Greenwich', 'Hackney', 'Hammersmith & Fulham', 'Haringey',\n",
       "       'Harrow', 'Havering', 'Hillingdon', 'Hounslow', 'Islington',\n",
       "       'Kensington & Chelsea', 'Kingston upon Thames', 'Lambeth',\n",
       "       'Lewisham', 'Merton', 'Newham', 'Redbridge',\n",
       "       'Richmond upon Thames', 'Southwark', 'Sutton', 'Tower Hamlets',\n",
       "       'Waltham Forest', 'Wandsworth', 'Westminster', 'Unnamed: 34',\n",
       "       'Inner London', 'Outer London', 'Unnamed: 37', 'NORTH EAST',\n",
       "       'NORTH WEST', 'YORKS & THE HUMBER', 'EAST MIDLANDS',\n",
       "       'WEST MIDLANDS', 'EAST OF ENGLAND', 'LONDON', 'SOUTH EAST',\n",
       "       'SOUTH WEST', 'Unnamed: 47', 'England'], dtype=object)"
      ]
     },
     "execution_count": 68,
     "metadata": {},
     "output_type": "execute_result"
    }
   ],
   "source": [
    "#get list of unique values in Borough_Name column\n",
    "props_tall[\"Borough_Name\"].unique()"
   ]
  },
  {
   "cell_type": "code",
   "execution_count": 69,
   "metadata": {},
   "outputs": [],
   "source": [
    "#list containing values that are not boroughs from the Borough_Name col\n",
    "not_boroughs = ['Unnamed: 34','Inner London', 'Outer London', 'Unnamed: 37', 'NORTH EAST','NORTH WEST',\\\n",
    "                'YORKS & THE HUMBER', 'EAST MIDLANDS','WEST MIDLANDS', 'EAST OF ENGLAND', 'LONDON',\\\n",
    "                'SOUTH EAST','SOUTH WEST', 'Unnamed: 47', 'England']"
   ]
  },
  {
   "cell_type": "code",
   "execution_count": 70,
   "metadata": {},
   "outputs": [],
   "source": [
    "#removes all rows that contain a value from the not_boroughs list\n",
    "properties_clean = props_tall[~props_tall[\"Borough_Name\"].isin(not_boroughs)]"
   ]
  },
  {
   "cell_type": "code",
   "execution_count": 71,
   "metadata": {},
   "outputs": [
    {
     "data": {
      "text/plain": [
       "['City of London',\n",
       " 'Barking & Dagenham',\n",
       " 'Barnet',\n",
       " 'Bexley',\n",
       " 'Brent',\n",
       " 'Bromley',\n",
       " 'Camden',\n",
       " 'Croydon',\n",
       " 'Ealing',\n",
       " 'Enfield',\n",
       " 'Greenwich',\n",
       " 'Hackney',\n",
       " 'Hammersmith & Fulham',\n",
       " 'Haringey',\n",
       " 'Harrow',\n",
       " 'Havering',\n",
       " 'Hillingdon',\n",
       " 'Hounslow',\n",
       " 'Islington',\n",
       " 'Kensington & Chelsea',\n",
       " 'Kingston upon Thames',\n",
       " 'Lambeth',\n",
       " 'Lewisham',\n",
       " 'Merton',\n",
       " 'Newham',\n",
       " 'Redbridge',\n",
       " 'Richmond upon Thames',\n",
       " 'Southwark',\n",
       " 'Sutton',\n",
       " 'Tower Hamlets',\n",
       " 'Waltham Forest',\n",
       " 'Wandsworth',\n",
       " 'Westminster']"
      ]
     },
     "execution_count": 71,
     "metadata": {},
     "output_type": "execute_result"
    }
   ],
   "source": [
    "#create list of London Borough names\n",
    "London_Boroughs = list(properties_clean[\"Borough_Name\"].unique())\n",
    "London_Boroughs"
   ]
  },
  {
   "cell_type": "code",
   "execution_count": 72,
   "metadata": {},
   "outputs": [
    {
     "data": {
      "text/plain": [
       "GSS_Code        False\n",
       "Borough_Name    False\n",
       "date            False\n",
       "avg_price       False\n",
       "dtype: bool"
      ]
     },
     "execution_count": 72,
     "metadata": {},
     "output_type": "execute_result"
    }
   ],
   "source": [
    "#check if any missing values in the df with the not-borughs removed\n",
    "properties_clean.isna().any()"
   ]
  },
  {
   "cell_type": "code",
   "execution_count": 73,
   "metadata": {},
   "outputs": [
    {
     "name": "stderr",
     "output_type": "stream",
     "text": [
      "C:\\Users\\ehard\\AppData\\Local\\Temp/ipykernel_13556/1783668610.py:3: SettingWithCopyWarning: \n",
      "A value is trying to be set on a copy of a slice from a DataFrame.\n",
      "Try using .loc[row_indexer,col_indexer] = value instead\n",
      "\n",
      "See the caveats in the documentation: https://pandas.pydata.org/pandas-docs/stable/user_guide/indexing.html#returning-a-view-versus-a-copy\n",
      "  properties_clean['date'] = pd.to_datetime(properties_clean['date'])\n"
     ]
    }
   ],
   "source": [
    "#remove unnecessary time from timestamp format and keep only date\n",
    "\n",
    "properties_clean['date'] = pd.to_datetime(properties_clean['date'])"
   ]
  },
  {
   "cell_type": "markdown",
   "metadata": {
    "colab_type": "text",
    "id": "PGEx6mJsp6dG"
   },
   "source": [
    "**2.6. Visualizing the data**\n",
    "\n",
    "To visualize the data, why not subset on a particular London Borough? Maybe do a line plot of Month against Average Price?"
   ]
  },
  {
   "cell_type": "code",
   "execution_count": 90,
   "metadata": {
    "colab": {},
    "colab_type": "code",
    "id": "nAg5pT9cqHAR"
   },
   "outputs": [
    {
     "name": "stderr",
     "output_type": "stream",
     "text": [
      "C:\\Users\\ehard\\AppData\\Local\\Temp/ipykernel_13556/3552790464.py:5: SettingWithCopyWarning: \n",
      "A value is trying to be set on a copy of a slice from a DataFrame.\n",
      "Try using .loc[row_indexer,col_indexer] = value instead\n",
      "\n",
      "See the caveats in the documentation: https://pandas.pydata.org/pandas-docs/stable/user_guide/indexing.html#returning-a-view-versus-a-copy\n",
      "  isling['mpl_date']= isling['date'].apply(mpl_dates.date2num)\n"
     ]
    },
    {
     "data": {
      "image/png": "[encoded data removed]",
      "text/plain": [
       "<Figure size 432x288 with 1 Axes>"
      ]
     },
     "metadata": {
      "needs_background": "light"
     },
     "output_type": "display_data"
    }
   ],
   "source": [
    "#subsets a df of just data from the Islington borough\n",
    "isling = properties_clean[properties_clean[\"Borough_Name\"]=='Islington']\n",
    "\n",
    "#converts date to plottable matplotlib format\n",
    "isling['mpl_date']= isling['date'].apply(mpl_dates.date2num)\n",
    "\n",
    "#lineplot of average price vs time for Islington\n",
    "is_lineplot = isling.plot(kind='line',y='avg_price',x='date')\n",
    "is_lineplot.set_ylabel(\"Average Price (GBP)\")\n",
    "is_lineplot.set_xlabel(\"Time\");"
   ]
  },
  {
   "cell_type": "code",
   "execution_count": 75,
   "metadata": {},
   "outputs": [
    {
     "data": {
      "image/png": "[encoded data removed]",
      "text/plain": [
       "<Figure size 432x288 with 1 Axes>"
      ]
     },
     "metadata": {
      "needs_background": "light"
     },
     "output_type": "display_data"
    }
   ],
   "source": [
    "#plot of average price vs. time (1995-2022) for Islington borough and a linear trendline of the data\n",
    "plt.plot(isling['mpl_date'],isling['avg_price'],'go')\n",
    "plt.xlabel(\"Time: 1995-01 to 2022-03\")\n",
    "plt.ylabel(\"Average Price (GBP)\")\n",
    "IS_trend = np.polyfit(isling['mpl_date'],isling['avg_price'],1)\n",
    "IS_plot = np.poly1d(IS_trend)\n",
    "plt.plot(isling['mpl_date'],IS_plot(isling['mpl_date']));\n"
   ]
  },
  {
   "cell_type": "markdown",
   "metadata": {
    "colab_type": "text",
    "id": "aWTPqSJeqHnC"
   },
   "source": [
    "To limit the number of data points you have, you might want to extract the year from every month value your *Month* column. \n",
    "\n",
    "To this end, you *could* apply a ***lambda function***. Your logic could work as follows:\n",
    "1. look through the `Month` column\n",
    "2. extract the year from each individual value in that column \n",
    "3. store that corresponding year as separate column. \n",
    "\n",
    "Whether you go ahead with this is up to you. Just so long as you answer our initial brief: which boroughs of London have seen the greatest house price increase, on average, over the past two decades? "
   ]
  },
  {
   "cell_type": "code",
   "execution_count": 76,
   "metadata": {
    "colab": {},
    "colab_type": "code",
    "id": "e0DF92cyqnu8"
   },
   "outputs": [
    {
     "name": "stderr",
     "output_type": "stream",
     "text": [
      "C:\\Users\\ehard\\AppData\\Local\\Temp/ipykernel_13556/3098752730.py:3: SettingWithCopyWarning: \n",
      "A value is trying to be set on a copy of a slice from a DataFrame.\n",
      "Try using .loc[row_indexer,col_indexer] = value instead\n",
      "\n",
      "See the caveats in the documentation: https://pandas.pydata.org/pandas-docs/stable/user_guide/indexing.html#returning-a-view-versus-a-copy\n",
      "  properties_clean['year'] = properties_clean['date'].apply(lambda entry: entry.year)\n"
     ]
    }
   ],
   "source": [
    "#lambda func to extract a year column from the date info to have year in a separate column\n",
    "\n",
    "properties_clean['year'] = properties_clean['date'].apply(lambda entry: entry.year)"
   ]
  },
  {
   "cell_type": "markdown",
   "metadata": {
    "colab_type": "text",
    "id": "2knuTxAEqoJ4"
   },
   "source": [
    "**3. Modeling**\n",
    "\n",
    "Consider creating a function that will calculate a ratio of house prices, comparing the price of a house in 2018 to the price in 1998.\n",
    "\n",
    "Consider calling this function create_price_ratio.\n",
    "\n",
    "You'd want this function to:\n",
    "1. Take a filter of dfg, specifically where this filter constrains the London_Borough, as an argument. For example, one admissible argument should be: dfg[dfg['London_Borough']=='Camden'].\n",
    "2. Get the Average Price for that Borough, for the years 1998 and 2018.\n",
    "4. Calculate the ratio of the Average Price for 1998 divided by the Average Price for 2018.\n",
    "5. Return that ratio.\n",
    "\n",
    "Once you've written this function, you ultimately want to use it to iterate through all the unique London_Boroughs and work out the ratio capturing the difference of house prices between 1998 and 2018.\n",
    "\n",
    "Bear in mind: you don't have to write a function like this if you don't want to. If you can solve the brief otherwise, then great! \n",
    "\n",
    "***Hint***: This section should test the skills you acquired in:\n",
    "- Python Data Science Toolbox - Part One, all modules"
   ]
  },
  {
   "cell_type": "code",
   "execution_count": 77,
   "metadata": {
    "colab": {},
    "colab_type": "code",
    "id": "cKTyr437UgDa"
   },
   "outputs": [],
   "source": [
    "#takes mean of price when grouped by year (and borough) to get average price per calendar year\n",
    "props_grouped = properties_clean.groupby(['Borough_Name','year']).mean()"
   ]
  },
  {
   "cell_type": "code",
   "execution_count": 78,
   "metadata": {},
   "outputs": [],
   "source": [
    "# need to reset index on new df props_grouped to be able to take subset of it\n",
    "props_grouped = props_grouped.reset_index()\n"
   ]
  },
  {
   "cell_type": "code",
   "execution_count": 79,
   "metadata": {},
   "outputs": [],
   "source": [
    "'''\n",
    "function to get average price for 1998 and 2018, caluclate 2018/1998 price ratio\n",
    "'''\n",
    "def price_ratio(borough):\n",
    "    pr_1998 = float(borough[\"avg_price\"][borough[\"year\"] == 1998]) \n",
    "    pr_2018 = float(borough[\"avg_price\"][borough[\"year\"]==2018])\n",
    "    ratio = pr_2018/pr_1998\n",
    "    return ratio"
   ]
  },
  {
   "cell_type": "code",
   "execution_count": 80,
   "metadata": {},
   "outputs": [
    {
     "data": {
      "text/plain": [
       "5.082465066092464"
      ]
     },
     "execution_count": 80,
     "metadata": {},
     "output_type": "execute_result"
    }
   ],
   "source": [
    "#test function price_ratio on one borough\n",
    "KC = price_ratio(props_grouped[props_grouped['Borough_Name']=='Kensington & Chelsea'])\n",
    "KC"
   ]
  },
  {
   "cell_type": "code",
   "execution_count": 81,
   "metadata": {},
   "outputs": [
    {
     "data": {
      "text/plain": [
       "[('City of London', 5.30162037758761),\n",
       " ('Barking & Dagenham', 4.89661861291754),\n",
       " ('Barnet', 4.358195917538044),\n",
       " ('Bexley', 4.248977046127877),\n",
       " ('Brent', 4.8945544971392865),\n",
       " ('Bromley', 4.094784685333876),\n",
       " ('Camden', 4.935353408884261),\n",
       " ('Croydon', 4.201100280024766),\n",
       " ('Ealing', 4.311450902121834),\n",
       " ('Enfield', 4.263471583495811),\n",
       " ('Greenwich', 4.7630363473291935),\n",
       " ('Hackney', 6.198285561008663),\n",
       " ('Hammersmith & Fulham', 4.13779810193623),\n",
       " ('Haringey', 5.134624964136042),\n",
       " ('Harrow', 4.0591964329643195),\n",
       " ('Havering', 4.325230371335307),\n",
       " ('Hillingdon', 4.2002730803844575),\n",
       " ('Hounslow', 3.976409106143329),\n",
       " ('Islington', 4.844048012802297),\n",
       " ('Kensington & Chelsea', 5.082465066092464),\n",
       " ('Kingston upon Thames', 4.270549521484271),\n",
       " ('Lambeth', 4.957751163514062),\n",
       " ('Lewisham', 5.449221041059686),\n",
       " ('Merton', 4.741273313294603),\n",
       " ('Newham', 5.305390437201879),\n",
       " ('Redbridge', 4.471182006097364),\n",
       " ('Richmond upon Thames', 4.005161895721457),\n",
       " ('Southwark', 5.516485302379378),\n",
       " ('Sutton', 4.118522608573157),\n",
       " ('Tower Hamlets', 4.62670104006116),\n",
       " ('Waltham Forest', 5.83475580932281),\n",
       " ('Wandsworth', 4.75770934773927),\n",
       " ('Westminster', 5.353565392605412)]"
      ]
     },
     "execution_count": 81,
     "metadata": {},
     "output_type": "execute_result"
    }
   ],
   "source": [
    "#apply price_ratio function to all boroughs and store result in a list of paired tuples\n",
    "ratio_list = []\n",
    "for b in London_Boroughs:\n",
    "    rat = price_ratio(props_grouped[props_grouped['Borough_Name'] == b])\n",
    "    bor_rat_pair = (b, rat)\n",
    "    ratio_list.append(bor_rat_pair)\n",
    "ratio_list"
   ]
  },
  {
   "cell_type": "code",
   "execution_count": 82,
   "metadata": {},
   "outputs": [
    {
     "data": {
      "text/plain": [
       "('Hackney', 6.198285561008663)"
      ]
     },
     "execution_count": 82,
     "metadata": {},
     "output_type": "execute_result"
    }
   ],
   "source": [
    "#find the largest ratio\n",
    "greatest_ratio = max(ratio_list, key = lambda x: x[1])\n",
    "greatest_ratio"
   ]
  },
  {
   "cell_type": "code",
   "execution_count": 83,
   "metadata": {
    "scrolled": false
   },
   "outputs": [
    {
     "data": {
      "image/png": "[encoded data removed]",
      "text/plain": [
       "<Figure size 432x288 with 1 Axes>"
      ]
     },
     "metadata": {
      "needs_background": "light"
     },
     "output_type": "display_data"
    }
   ],
   "source": [
    "#bar chart with top ten price ratios\n",
    "ratio_list.sort(key = lambda x: x[1], reverse=True)\n",
    "ratio_list_10 = ratio_list[:11]\n",
    "bor = []\n",
    "pr_ratio = []\n",
    "for b in ratio_list_10:\n",
    "    bor.append(b[0])\n",
    "    pr_ratio.append(b[1])\n",
    "plt.bar(bor,pr_ratio)\n",
    "plt.ylabel(\"Price Ratio 2018/1998\")\n",
    "plt.xticks(rotation = 90);"
   ]
  },
  {
   "cell_type": "markdown",
   "metadata": {},
   "source": [
    "So according to the method of comparing the ratio of average price from 1998 to 2018, the **Hackney** borough has seen the greatest price increase. But another way to answer the question, that likely better captures the *average* price increase over time (smooths out extremes) rather than simply comparing start and end points:"
   ]
  },
  {
   "cell_type": "code",
   "execution_count": 84,
   "metadata": {},
   "outputs": [],
   "source": [
    "'''\n",
    "a function to generalize what we did with Islington: gets a trendline for each borough of \n",
    "price vs date and then gets the slope of the line. That slope will be used to compare average growth over the time period \n",
    "(ie. use linear regression). We can store the borough and slope in a list of tuples and find the borough with \n",
    "the largest slope value.\n",
    "'''\n",
    "def find_slope(borough):\n",
    "    borough_df = properties_clean[properties_clean[\"Borough_Name\"]==borough]\n",
    "    borough_df['date'] = borough_df['date'].apply(mpl_dates.date2num)\n",
    "    slope, intercept = np.polyfit(borough_df['date'],borough_df['avg_price'],1)\n",
    "    return slope\n",
    "    "
   ]
  },
  {
   "cell_type": "code",
   "execution_count": 85,
   "metadata": {},
   "outputs": [
    {
     "name": "stderr",
     "output_type": "stream",
     "text": [
      "C:\\Users\\ehard\\AppData\\Local\\Temp/ipykernel_13556/1838755818.py:9: SettingWithCopyWarning: \n",
      "A value is trying to be set on a copy of a slice from a DataFrame.\n",
      "Try using .loc[row_indexer,col_indexer] = value instead\n",
      "\n",
      "See the caveats in the documentation: https://pandas.pydata.org/pandas-docs/stable/user_guide/indexing.html#returning-a-view-versus-a-copy\n",
      "  borough_df['date'] = borough_df['date'].apply(mpl_dates.date2num)\n"
     ]
    },
    {
     "data": {
      "text/plain": [
       "105.78564461419818"
      ]
     },
     "execution_count": 85,
     "metadata": {},
     "output_type": "execute_result"
    }
   ],
   "source": [
    "#tests the new function\n",
    "find_slope(\"Westminster\")"
   ]
  },
  {
   "cell_type": "code",
   "execution_count": 86,
   "metadata": {},
   "outputs": [
    {
     "name": "stderr",
     "output_type": "stream",
     "text": [
      "C:\\Users\\ehard\\AppData\\Local\\Temp/ipykernel_13556/1838755818.py:9: SettingWithCopyWarning: \n",
      "A value is trying to be set on a copy of a slice from a DataFrame.\n",
      "Try using .loc[row_indexer,col_indexer] = value instead\n",
      "\n",
      "See the caveats in the documentation: https://pandas.pydata.org/pandas-docs/stable/user_guide/indexing.html#returning-a-view-versus-a-copy\n",
      "  borough_df['date'] = borough_df['date'].apply(mpl_dates.date2num)\n"
     ]
    },
    {
     "data": {
      "text/plain": [
       "[('City of London', 86.41751557336141),\n",
       " ('Barking & Dagenham', 28.205052375738116),\n",
       " ('Barnet', 51.56124780301092),\n",
       " ('Bexley', 31.847126251681185),\n",
       " ('Brent', 49.13137357078622),\n",
       " ('Bromley', 41.36880102461122),\n",
       " ('Camden', 86.41523080059156),\n",
       " ('Croydon', 34.45924837882281),\n",
       " ('Ealing', 46.96963757942976),\n",
       " ('Enfield', 37.67216327671265),\n",
       " ('Greenwich', 38.3525615345529),\n",
       " ('Hackney', 60.04860648302673),\n",
       " ('Hammersmith & Fulham', 75.13269419113543),\n",
       " ('Haringey', 56.27632546857382),\n",
       " ('Harrow', 43.42536945294089),\n",
       " ('Havering', 34.13483924363015),\n",
       " ('Hillingdon', 38.623933368107245),\n",
       " ('Hounslow', 37.97302684844097),\n",
       " ('Islington', 67.90382022578525),\n",
       " ('Kensington & Chelsea', 140.8707687127424),\n",
       " ('Kingston upon Thames', 47.591939974466),\n",
       " ('Lambeth', 53.185245501701786),\n",
       " ('Lewisham', 42.17338026099879),\n",
       " ('Merton', 51.52694512135405),\n",
       " ('Newham', 35.979010392205964),\n",
       " ('Redbridge', 40.00348487530433),\n",
       " ('Richmond upon Thames', 66.01146385581971),\n",
       " ('Southwark', 52.73203664522193),\n",
       " ('Sutton', 35.38060137087009),\n",
       " ('Tower Hamlets', 44.70422210640326),\n",
       " ('Waltham Forest', 44.71676613235258),\n",
       " ('Wandsworth', 61.71128900693799),\n",
       " ('Westminster', 105.78564461419818)]"
      ]
     },
     "execution_count": 86,
     "metadata": {},
     "output_type": "execute_result"
    }
   ],
   "source": [
    "#apply function find_slope to each borough in London_Boroughs list and store results in a list of paired tuples\n",
    "slope_list = []\n",
    "for bor in London_Boroughs:\n",
    "    slope = find_slope(bor)\n",
    "    bor_sl_pair = (bor, slope)\n",
    "    slope_list.append(bor_sl_pair)\n",
    "slope_list"
   ]
  },
  {
   "cell_type": "code",
   "execution_count": 87,
   "metadata": {},
   "outputs": [
    {
     "data": {
      "text/plain": [
       "('Kensington & Chelsea', 140.8707687127424)"
      ]
     },
     "execution_count": 87,
     "metadata": {},
     "output_type": "execute_result"
    }
   ],
   "source": [
    "#find the tuple pair with the greatest slope of the linear trendline of price over time: \n",
    "#Kensington & Chelsea saw the greatest avergae price increase over the time period in the dataset (1995-01 to 2022-03)\n",
    "greatest_incr = max(slope_list, key = lambda x: x[1])\n",
    "greatest_incr"
   ]
  },
  {
   "cell_type": "code",
   "execution_count": 88,
   "metadata": {},
   "outputs": [
    {
     "data": {
      "text/plain": [
       "('Barking & Dagenham', 28.205052375738116)"
      ]
     },
     "execution_count": 88,
     "metadata": {},
     "output_type": "execute_result"
    }
   ],
   "source": [
    "smallest_incr = min(slope_list, key = lambda x: x[1])\n",
    "smallest_incr"
   ]
  },
  {
   "cell_type": "code",
   "execution_count": 89,
   "metadata": {},
   "outputs": [
    {
     "name": "stderr",
     "output_type": "stream",
     "text": [
      "C:\\Users\\ehard\\AppData\\Local\\Temp/ipykernel_13556/1056297980.py:6: SettingWithCopyWarning: \n",
      "A value is trying to be set on a copy of a slice from a DataFrame.\n",
      "Try using .loc[row_indexer,col_indexer] = value instead\n",
      "\n",
      "See the caveats in the documentation: https://pandas.pydata.org/pandas-docs/stable/user_guide/indexing.html#returning-a-view-versus-a-copy\n",
      "  KensChels['date']= KensChels['date'].apply(mpl_dates.date2num)\n",
      "C:\\Users\\ehard\\AppData\\Local\\Temp/ipykernel_13556/1056297980.py:11: SettingWithCopyWarning: \n",
      "A value is trying to be set on a copy of a slice from a DataFrame.\n",
      "Try using .loc[row_indexer,col_indexer] = value instead\n",
      "\n",
      "See the caveats in the documentation: https://pandas.pydata.org/pandas-docs/stable/user_guide/indexing.html#returning-a-view-versus-a-copy\n",
      "  BarkDag['date']= BarkDag['date'].apply(mpl_dates.date2num)\n"
     ]
    },
    {
     "data": {
      "image/png": "[encoded data removed]",
      "text/plain": [
       "<Figure size 432x288 with 1 Axes>"
      ]
     },
     "metadata": {
      "needs_background": "light"
     },
     "output_type": "display_data"
    }
   ],
   "source": [
    "#let's plot the smallest increase and the largest increase to compare them\n",
    "\n",
    "#subsets a df of just data from the Kens-Chels borough\n",
    "KensChels = properties_clean[properties_clean[\"Borough_Name\"]=='Kensington & Chelsea']\n",
    "#converts date to plottable matplotlib format\n",
    "KensChels['date']= KensChels['date'].apply(mpl_dates.date2num)\n",
    "\n",
    "#subsets a df of just data from the Barking & Dagenham borough\n",
    "BarkDag = properties_clean[properties_clean[\"Borough_Name\"]=='Barking & Dagenham']\n",
    "#converts date to plottable matplotlib format\n",
    "BarkDag['date']= BarkDag['date'].apply(mpl_dates.date2num)\n",
    "\n",
    "#uses polyfit function to get linear best fit trendline of KC data\n",
    "KC_trend = np.polyfit(KensChels['date'],KensChels['avg_price'],1)\n",
    "plt.plot(KensChels['date'],KensChels['avg_price'],'o') #plots the x,y data from KC\n",
    "plt.xlabel(\"Time: 1995-01 to 2022-03\")\n",
    "plt.ylabel(\"Average Price (GBP)\")\n",
    "KC_plot = np.poly1d(KC_trend)  #np.poly1d calculates a plottable polynomial from KC_trend\n",
    "#plots the polynomial KC_plot with x-vals from KC[date] and the corr. y-val calculated using the polynomial w these x-vals\n",
    "plt.plot(KensChels['date'],KC_plot(KensChels['date'])) \n",
    "\n",
    "#uses polyfit function to get linear best fit trendline of BD data\n",
    "BD_trend = np.polyfit(BarkDag['date'],BarkDag['avg_price'],1)\n",
    "plt.plot(BarkDag['date'],BarkDag['avg_price'],'go')\n",
    "BD_plot = np.poly1d(BD_trend)\n",
    "plt.plot(BarkDag['date'],BD_plot(BarkDag['date']));"
   ]
  },
  {
   "cell_type": "markdown",
   "metadata": {
    "colab_type": "text",
    "id": "NzYUI7FxJpgv"
   },
   "source": [
    "### 4. Conclusion\n",
    "What can you conclude? Type out your conclusion below. \n",
    "\n",
    "Look back at your notebook. Think about how you might summarize what you have done, and prepare a quick presentation on it to your mentor at your next meeting. \n",
    "\n",
    "We hope you enjoyed this practical project. It should have consolidated your data hygiene and pandas skills by looking at a real-world problem involving just the kind of dataset you might encounter as a budding data scientist. Congratulations, and looking forward to seeing you at the next step in the course! "
   ]
  },
  {
   "cell_type": "markdown",
   "metadata": {},
   "source": [
    "**On average**, the Kensington and Chelsea borough has seen the greatest increase in average home price over the last 25+ years. If we consider only the average price in 1995 vs. the average price in 2021, Hackney has seen the largest jump. Kensington and Chelsea is also currently the overall most expensive borough.\n",
    "\n",
    "I used two different methods that give a slightly different metric. To consider the average price increase over time, I fit a linear trendline through the price vs time data for each borough and used the slope of the trendline to determine the average price increase over time. The steepest slope is the borough with the greatest average price increase. A simpler solution that only looks at prices at the start and end of the 25 year period determines which borough saw the largest price increase by calculating the ratio of average price in 2021 to average price in 1995.\n"
   ]
  }
 ],
 "metadata": {
  "colab": {
   "collapsed_sections": [],
   "name": "Springboard Data Science Career Track Unit 4 Challenge - Tier 3 Complete .ipynb",
   "provenance": []
  },
  "kernelspec": {
   "display_name": "Python 3 (ipykernel)",
   "language": "python",
   "name": "python3"
  },
  "language_info": {
   "codemirror_mode": {
    "name": "ipython",
    "version": 3
   },
   "file_extension": ".py",
   "mimetype": "text/x-python",
   "name": "python",
   "nbconvert_exporter": "python",
   "pygments_lexer": "ipython3",
   "version": "3.9.7"
  }
 },
 "nbformat": 4,
 "nbformat_minor": 1
}
